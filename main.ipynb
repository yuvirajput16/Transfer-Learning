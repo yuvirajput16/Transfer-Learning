{
 "cells": [
  {
   "cell_type": "code",
   "execution_count": 17,
   "metadata": {},
   "outputs": [],
   "source": [
    "import numpy as np\n",
    "import pandas as pd\n",
    "import matplotlib.pyplot as plt\n",
    "\n",
    "import tensorflow as tf\n",
    "import tensorflow_hub as hub\n",
    "\n",
    "import PIL.Image as Image\n",
    "import os\n",
    "import cv2\n",
    "\n",
    "from tensorflow import keras\n",
    "from tensorflow.keras import layers\n",
    "from tensorflow.keras.models import Sequential"
   ]
  },
  {
   "cell_type": "code",
   "execution_count": 2,
   "metadata": {},
   "outputs": [],
   "source": [
    "m = Sequential([\n",
    "    hub.KerasLayer(\"https://www.kaggle.com/models/google/mobilenet-v2/TensorFlow2/035-128-classification/2\")\n",
    "])\n",
    "m.build([None, 128, 128, 3])  # Batch input shape."
   ]
  },
  {
   "cell_type": "code",
   "execution_count": 27,
   "metadata": {},
   "outputs": [],
   "source": [
    "def image(img_path):\n",
    "    img = Image.open(img_path).resize((128,128))\n",
    "    img = np.array(img)/255\n",
    "    img = img[np.newaxis, ...]\n",
    "    return img\n",
    "\n",
    "img_path = \"goldfish.jpg\"\n",
    "goldfish = image(img_path)"
   ]
  },
  {
   "cell_type": "code",
   "execution_count": 28,
   "metadata": {},
   "outputs": [
    {
     "data": {
      "text/plain": [
       "(1, 128, 128, 3)"
      ]
     },
     "execution_count": 28,
     "metadata": {},
     "output_type": "execute_result"
    }
   ],
   "source": [
    "goldfish.shape"
   ]
  },
  {
   "cell_type": "code",
   "execution_count": 29,
   "metadata": {},
   "outputs": [
    {
     "name": "stdout",
     "output_type": "stream",
     "text": [
      "1/1 [==============================] - 0s 20ms/step\n"
     ]
    },
    {
     "data": {
      "text/plain": [
       "2"
      ]
     },
     "execution_count": 29,
     "metadata": {},
     "output_type": "execute_result"
    }
   ],
   "source": [
    "result = np.argmax(m.predict(goldfish))\n",
    "result"
   ]
  },
  {
   "cell_type": "code",
   "execution_count": 18,
   "metadata": {},
   "outputs": [
    {
     "name": "stdout",
     "output_type": "stream",
     "text": [
      "Downloading data from https://storage.googleapis.com/download.tensorflow.org/example_images/flower_photos.tgz\n",
      "228813984/228813984 [==============================] - 18s 0us/step\n"
     ]
    }
   ],
   "source": [
    "dataset_url = \"https://storage.googleapis.com/download.tensorflow.org/example_images/flower_photos.tgz\"\n",
    "data_dir = tf.keras.utils.get_file('flower_photos', origin=dataset_url,cache_dir=\".\", untar=True)"
   ]
  },
  {
   "cell_type": "code",
   "execution_count": 19,
   "metadata": {},
   "outputs": [
    {
     "data": {
      "text/plain": [
       "'./datasets/flower_photos'"
      ]
     },
     "execution_count": 19,
     "metadata": {},
     "output_type": "execute_result"
    }
   ],
   "source": [
    "data_dir"
   ]
  },
  {
   "cell_type": "code",
   "execution_count": 20,
   "metadata": {},
   "outputs": [],
   "source": [
    "import pathlib\n",
    "\n",
    "data_dir = pathlib.Path(data_dir)\n",
    "\n",
    "# making a dictionary of directories\n",
    "flower_dir = {\n",
    "    'roses' : list(data_dir.glob(\"roses/*\")),\n",
    "    'daisy' : list(data_dir.glob(\"daisy/*\")),\n",
    "    'dandelion' : list(data_dir.glob(\"dandelion/*\")),\n",
    "    'sunflowers' : list(data_dir.glob(\"sunflowers/*\")),\n",
    "    'tulips' : list(data_dir.glob(\"tulips/*\"))\n",
    "}\n",
    "\n",
    "flower_num = {\n",
    "    'roses' : 0,\n",
    "    'daisy' : 1,\n",
    "    'dandelion' : 2,\n",
    "    'sunflowers' : 3,\n",
    "    'tulips' : 4\n",
    "}"
   ]
  },
  {
   "cell_type": "code",
   "execution_count": 42,
   "metadata": {},
   "outputs": [],
   "source": [
    "X, y = [], []\n",
    "\n",
    "for flower_name, images in flower_dir.items():\n",
    "    for image in images:\n",
    "        img = cv2.imread(str(image))\n",
    "        img = cv2.resize(img,(128,128))\n",
    "        X.append(img)\n",
    "        y.append(flower_num[flower_name])"
   ]
  },
  {
   "cell_type": "code",
   "execution_count": 43,
   "metadata": {},
   "outputs": [],
   "source": [
    "X = np.array(X)/255\n",
    "y = np.array(y)"
   ]
  },
  {
   "cell_type": "code",
   "execution_count": 44,
   "metadata": {},
   "outputs": [],
   "source": [
    "from sklearn.model_selection import train_test_split\n",
    "X_train, X_test, y_train, y_test = train_test_split(X, y, random_state=42)"
   ]
  },
  {
   "cell_type": "code",
   "execution_count": 61,
   "metadata": {},
   "outputs": [
    {
     "data": {
      "text/plain": [
       "(2752, 128, 128, 3)"
      ]
     },
     "execution_count": 61,
     "metadata": {},
     "output_type": "execute_result"
    }
   ],
   "source": [
    "X_train.shape"
   ]
  },
  {
   "cell_type": "markdown",
   "metadata": {},
   "source": [
    "## Transfer Model"
   ]
  },
  {
   "cell_type": "code",
   "execution_count": 64,
   "metadata": {},
   "outputs": [
    {
     "name": "stdout",
     "output_type": "stream",
     "text": [
      "Model: \"sequential_2\"\n",
      "_________________________________________________________________\n",
      " Layer (type)                Output Shape              Param #   \n",
      "=================================================================\n",
      " keras_layer_2 (KerasLayer)  (None, 1280)              410208    \n",
      "                                                                 \n",
      " dense_1 (Dense)             (None, 5)                 6405      \n",
      "                                                                 \n",
      "=================================================================\n",
      "Total params: 416613 (1.59 MB)\n",
      "Trainable params: 6405 (25.02 KB)\n",
      "Non-trainable params: 410208 (1.56 MB)\n",
      "_________________________________________________________________\n"
     ]
    }
   ],
   "source": [
    "model =Sequential([\n",
    "    hub.KerasLayer(\"https://www.kaggle.com/models/google/mobilenet-v2/TensorFlow2/035-128-feature-vector/2\",\n",
    "                   trainable=False), # this will give feature vector now\n",
    "    layers.Dense(5, activation='softmax') # classification of flowers only\n",
    "])\n",
    "model.build([None, 128, 128, 3])  # Batch input shape.\n",
    "\n",
    "model.summary()"
   ]
  },
  {
   "cell_type": "code",
   "execution_count": 66,
   "metadata": {},
   "outputs": [
    {
     "name": "stdout",
     "output_type": "stream",
     "text": [
      "Epoch 1/10\n",
      "86/86 [==============================] - 5s 52ms/step - loss: 0.8991 - accuracy: 0.6610\n",
      "Epoch 2/10\n",
      "86/86 [==============================] - 4s 52ms/step - loss: 0.5469 - accuracy: 0.8016\n",
      "Epoch 3/10\n",
      "86/86 [==============================] - 4s 52ms/step - loss: 0.4507 - accuracy: 0.8376\n",
      "Epoch 4/10\n",
      "86/86 [==============================] - 4s 50ms/step - loss: 0.3892 - accuracy: 0.8685\n",
      "Epoch 5/10\n",
      "86/86 [==============================] - 4s 51ms/step - loss: 0.3478 - accuracy: 0.8899\n",
      "Epoch 6/10\n",
      "86/86 [==============================] - 4s 49ms/step - loss: 0.3112 - accuracy: 0.8964\n",
      "Epoch 7/10\n",
      "86/86 [==============================] - 4s 42ms/step - loss: 0.2812 - accuracy: 0.9150\n",
      "Epoch 8/10\n",
      "86/86 [==============================] - 4s 44ms/step - loss: 0.2565 - accuracy: 0.9208\n",
      "Epoch 9/10\n",
      "86/86 [==============================] - 4s 42ms/step - loss: 0.2380 - accuracy: 0.9251\n",
      "Epoch 10/10\n",
      "86/86 [==============================] - 4s 46ms/step - loss: 0.2216 - accuracy: 0.9353\n"
     ]
    },
    {
     "data": {
      "text/plain": [
       "<keras.src.callbacks.History at 0x79ca924fd4e0>"
      ]
     },
     "execution_count": 66,
     "metadata": {},
     "output_type": "execute_result"
    }
   ],
   "source": [
    "model.compile(optimizer='adam',\n",
    "              loss=tf.keras.losses.SparseCategoricalCrossentropy(from_logits=True),\n",
    "              metrics=['accuracy'])\n",
    "model.fit(X_train, y_train, epochs=10)"
   ]
  },
  {
   "cell_type": "code",
   "execution_count": 67,
   "metadata": {},
   "outputs": [
    {
     "name": "stderr",
     "output_type": "stream",
     "text": [
      "/home/shravan/.local/lib/python3.10/site-packages/keras/src/backend.py:5727: UserWarning: \"`sparse_categorical_crossentropy` received `from_logits=True`, but the `output` argument was produced by a Softmax activation and thus does not represent logits. Was this intended?\n",
      "  output, from_logits = _get_logits(\n"
     ]
    },
    {
     "name": "stdout",
     "output_type": "stream",
     "text": [
      "29/29 [==============================] - 2s 45ms/step - loss: 0.5460 - accuracy: 0.8072\n"
     ]
    },
    {
     "data": {
      "text/plain": [
       "[0.5460209250450134, 0.8071895241737366]"
      ]
     },
     "execution_count": 67,
     "metadata": {},
     "output_type": "execute_result"
    }
   ],
   "source": [
    "model.evaluate(X_test,y_test)"
   ]
  },
  {
   "cell_type": "markdown",
   "metadata": {},
   "source": [
    "## Conclusion\n",
    "### we got better accuracy of 80% in just 10 epochs after using TRANSFER LEARNING"
   ]
  }
 ],
 "metadata": {
  "kernelspec": {
   "display_name": "Python 3",
   "language": "python",
   "name": "python3"
  },
  "language_info": {
   "codemirror_mode": {
    "name": "ipython",
    "version": 3
   },
   "file_extension": ".py",
   "mimetype": "text/x-python",
   "name": "python",
   "nbconvert_exporter": "python",
   "pygments_lexer": "ipython3",
   "version": "3.10.12"
  }
 },
 "nbformat": 4,
 "nbformat_minor": 2
}
